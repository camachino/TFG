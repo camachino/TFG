{
 "cells": [
  {
   "cell_type": "markdown",
   "id": "a47ae298-bc5c-49da-9432-80c0561f8885",
   "metadata": {},
   "source": [
    "## TFG: (TITULO)\n",
    "##### Jose Ignacio Magdalena Camacho"
   ]
  },
  {
   "cell_type": "markdown",
   "id": "2b78515f-7e72-4fae-b9a3-6c5ea51c509a",
   "metadata": {},
   "source": [
    "#### 0. Initialize the workspace"
   ]
  },
  {
   "cell_type": "markdown",
   "id": "a819b650-b049-4a82-96e8-e2486faa536f",
   "metadata": {},
   "source": [
    "In this step we eliminate all the blocks except for the Genesis Block"
   ]
  },
  {
   "cell_type": "code",
   "execution_count": 1,
   "id": "a8a3ba32-4440-4a48-932b-dc91c6425d65",
   "metadata": {},
   "outputs": [
    {
     "name": "stdout",
     "output_type": "stream",
     "text": [
      "Blockchain del Polideportivo Eliminada\n",
      "Blockchain del Cliente Independiente Eliminada\n",
      "Blockchain del Ayuntamiento Eliminada\n"
     ]
    }
   ],
   "source": [
    "import requests\n",
    "\n",
    "URL1 = 'http://localhost:12121'\n",
    "URL2 = 'http://localhost:13131'\n",
    "URL3 = 'http://localhost:14141'\n",
    "\n",
    "r1 = requests.get(URL1+'/eliminate_chain')\n",
    "r2 = requests.get(URL2+'/eliminate_chain')\n",
    "r3 = requests.get(URL3+'/eliminate_chain')\n",
    "\n",
    "if r1.status_code == 200:\n",
    "    print(\"Blockchain del Polideportivo Eliminada\")\n",
    "else:\n",
    "    print(\"Error: Blockchain del Polideportivo NO Eliminada\")\n",
    "    \n",
    "if r2.status_code == 200:\n",
    "    print(\"Blockchain del Cliente Independiente Eliminada\")\n",
    "else:\n",
    "    print(\"Error: Blockchain del Cliente Independiente NO Eliminada\")\n",
    "    \n",
    "if r3.status_code == 200:\n",
    "    print(\"Blockchain del Ayuntamiento Eliminada\")\n",
    "else:\n",
    "    print(\"Error: Blockchain del Ayuntamiento NO Eliminada\")"
   ]
  },
  {
   "cell_type": "markdown",
   "id": "99491cbb-f162-4fad-9dd4-a036ce50ce3d",
   "metadata": {},
   "source": [
    "#### 1. Create the Nodes"
   ]
  },
  {
   "cell_type": "markdown",
   "id": "d44e08e6-252c-49d2-adb1-9b7d535aaa5a",
   "metadata": {},
   "source": [
    "In this step each node registers the other node and, by doing this, they synchronize their blockchains "
   ]
  },
  {
   "cell_type": "code",
   "execution_count": 2,
   "id": "421e1d81-1cfd-4ea9-b7e3-38cb7a751e3d",
   "metadata": {},
   "outputs": [
    {
     "name": "stdout",
     "output_type": "stream",
     "text": [
      "Se ha registrado correctamente el Polideportivo en el Cliente Independiente y viceversa\n",
      "Se ha registrado correctamente el Ayuntamiento en el Polideportivo y viceversa\n",
      "Se ha registrado correctamente el Ayuntamiento en el Cliente Independiente y viceversa\n"
     ]
    }
   ],
   "source": [
    "import requests\n",
    "\n",
    "# Register Node 2 in Node 1 and viceversa\n",
    "URL = 'http://localhost:13131'\n",
    "body = {\"node_address\" : 'http://127.0.0.1:12121'}\n",
    "\n",
    "r = requests.post(URL+'/register_with_existing_node',json = body)\n",
    "\n",
    "if r.status_code == 200:\n",
    "    print(\"Se ha registrado correctamente el Polideportivo en el Cliente Independiente y viceversa\")\n",
    "else:\n",
    "    print(\"Error: Polideportivo y Cliente Independiente no registrados entre ellos\")\n",
    "\n",
    "\n",
    "# Register Ayuntamiento (node 14141) in Node 1 and Node 2\n",
    "URL = 'http://localhost:14141'\n",
    "body = {\"node_address\" : 'http://127.0.0.1:12121'}\n",
    "\n",
    "r = requests.post(URL+'/register_with_existing_node',json = body)\n",
    "\n",
    "if r.status_code == 200:\n",
    "    print(\"Se ha registrado correctamente el Ayuntamiento en el Polideportivo y viceversa\")\n",
    "else:\n",
    "    print(\"Error: Polideportivo y Ayuntamiento no registrados entre ellos\")\n",
    "\n",
    "URL = 'http://localhost:14141'\n",
    "body = {\"node_address\" : 'http://127.0.0.1:13131'}\n",
    "\n",
    "r = requests.post(URL+'/register_with_existing_node',json = body)\n",
    "\n",
    "if r.status_code == 200:\n",
    "    print(\"Se ha registrado correctamente el Ayuntamiento en el Cliente Independiente y viceversa\")\n",
    "else:\n",
    "    print(\"Error: Cliente Independiente y Ayuntamiento no registrados entre ellos\")"
   ]
  },
  {
   "cell_type": "code",
   "execution_count": 82,
   "id": "c6e8889e-c563-4526-86fc-2f9d0370dda8",
   "metadata": {},
   "outputs": [
    {
     "name": "stdout",
     "output_type": "stream",
     "text": [
      "Las cadenas son iguales: True\n",
      "\n",
      "Cadena del Polideportivo:\n",
      "Genesis Block: \n",
      " {'current_hash': '00059cd5b42416959b120fb71a3c8cbae82595e304ccb1098765c5554df23036', 'index': 0, 'nonce': 3937, 'previous_hash': '0', 'timestamp': 1688459708.9149287, 'transactions': []}\n",
      "\n",
      "Cadena del Cliente Independiente:\n",
      "Genesis Block: \n",
      " {'current_hash': '00059cd5b42416959b120fb71a3c8cbae82595e304ccb1098765c5554df23036', 'index': 0, 'nonce': 3937, 'previous_hash': '0', 'timestamp': 1688459708.9149287, 'transactions': []}\n",
      "\n",
      "Cadena del Ayuntamiento:\n",
      "Genesis Block: \n",
      " {'current_hash': '00059cd5b42416959b120fb71a3c8cbae82595e304ccb1098765c5554df23036', 'index': 0, 'nonce': 3937, 'previous_hash': '0', 'timestamp': 1688459708.9149287, 'transactions': []}\n"
     ]
    }
   ],
   "source": [
    "import requests\n",
    "\n",
    "# Confirm that all chains are the same\n",
    "URL1 = 'http://localhost:12121'\n",
    "URL2 = 'http://localhost:13131'\n",
    "URL3 = 'http://localhost:14141'\n",
    "\n",
    "r1 = requests.get(URL1+'/chain')\n",
    "r2 = requests.get(URL2+'/chain')\n",
    "r3 = requests.get(URL3+'/chain')\n",
    "\n",
    "print(\"Las cadenas son iguales:\",r1.json()['chain']==r2.json()['chain']==r3.json()['chain'])\n",
    "\n",
    "for x in range(len(r1.json()['chain'])):\n",
    "    if x == 0:\n",
    "        print(\"\\nCadena del Polideportivo:\")\n",
    "        print(\"Genesis Block: \")\n",
    "        print(\"\", r1.json()['chain'][x])\n",
    "    else:\n",
    "        print(\"Block \"+str(x)+\": \")\n",
    "        print(\"\",r1.json()['chain'][x])\n",
    "              \n",
    "for x in range(len(r2.json()['chain'])):\n",
    "    if x == 0:\n",
    "        print(\"\\nCadena del Cliente Independiente:\")\n",
    "        print(\"Genesis Block: \")\n",
    "        print(\"\", r2.json()['chain'][x])\n",
    "    else:\n",
    "        print(\"Block \"+str(x)+\": \")\n",
    "        print(\"\",r2.json()['chain'][x])\n",
    "        \n",
    "for x in range(len(r3.json()['chain'])):\n",
    "    if x == 0:\n",
    "        print(\"\\nCadena del Ayuntamiento:\")\n",
    "        print(\"Genesis Block: \")\n",
    "        print(\"\", r3.json()['chain'][x])\n",
    "    else:\n",
    "        print(\"Block \"+str(x)+\": \")\n",
    "        print(\"\",r3.json()['chain'][x])"
   ]
  },
  {
   "cell_type": "markdown",
   "id": "c951b643-e1b6-46ae-bf1e-6d4bfb2f5086",
   "metadata": {},
   "source": [
    "#### 3. Create, Send and Mine the Blocks"
   ]
  },
  {
   "cell_type": "markdown",
   "id": "1216e404-d6ed-4ffc-821e-b1734733df5e",
   "metadata": {},
   "source": [
    "In this step we simulated two clients (12121 and 13131) sending transactions to the blockchain. In real life, they would send the transactions to every node and each node will compite to mine the block. In this case, as the time to mine is so reduced, there will be no competition, meaning that only Client 12121 will receive transactions and mine them.\n",
    "\n",
    "Each month, all the clients send the transactions to the blockchain and a node (the one who wins) would mine the block. The block will therefore contain the transaction of that month for each of the clients."
   ]
  },
  {
   "cell_type": "code",
   "execution_count": 3,
   "id": "df8bdebb-a5a9-48fc-beb8-dbd12b87c580",
   "metadata": {},
   "outputs": [
    {
     "name": "stdout",
     "output_type": "stream",
     "text": [
      "Transaccion del Polideportivo del 01/01/2023 al 31/01/2023 enviada\n",
      "Transaccion del Cliente Independiente del 01/01/2023 al 31/01/2023 enviada\n",
      "Bloque del 01/01/2023 al 31/01/2023 minado\n",
      "\n",
      "Transaccion del Polideportivo del 01/02/2023 al 28/02/2023 enviada\n",
      "Transaccion del Cliente Independiente del 01/02/2023 al 28/02/2023 enviada\n",
      "Bloque del 01/02/2023 al 28/02/2023 minado\n",
      "\n",
      "Transaccion del Polideportivo del 01/03/2023 al 31/03/2023 enviada\n",
      "Transaccion del Cliente Independiente del 01/03/2023 al 31/03/2023 enviada\n",
      "Bloque del 01/03/2023 al 31/03/2023 minado\n"
     ]
    }
   ],
   "source": [
    "import requests\n",
    "\n",
    "### Block 1\n",
    "\n",
    "# Transaction 1\n",
    "URL = 'http://localhost:12121'\n",
    "body = {\n",
    "        \"Numero Factura\" : \"5107217625C\",\n",
    "        \"ID Cliente\" : \"6229016L\",\n",
    "        \"Potencia Consumida (kWh)\" : \"194\",\n",
    "        \"Potencia Producida (kWh)\" : \"442\",\n",
    "        \"Periodo de Facturacion\": \"01/01/2023 al 31/01/2023\"\n",
    "        }\n",
    "\n",
    "r = requests.post(URL+'/new_transaction',json = body)\n",
    "if r.status_code == 201:\n",
    "    print(\"Transaccion del Polideportivo del 01/01/2023 al 31/01/2023 enviada\")\n",
    "else:\n",
    "    print(\"Error: Transaccion del Polideportivo del 01/01/2023 al 31/01/2023 NO enviada\")\n",
    "\n",
    "# Transaction 2\n",
    "body = {\n",
    "        \"Numero Factura\" : \"5944718538E\",\n",
    "        \"ID Cliente\" : \"3165615K\",\n",
    "        \"Potencia Consumida (kWh)\" : \"89\",\n",
    "        \"Potencia Producida (kWh)\" : \"195\",\n",
    "        \"Periodo de Facturacion\": \"01/01/2023 al 31/01/2023\"\n",
    "        }\n",
    "\n",
    "r = requests.post(URL+'/new_transaction',json = body)\n",
    "if r.status_code == 201:\n",
    "    print(\"Transaccion del Cliente Independiente del 01/01/2023 al 31/01/2023 enviada\")\n",
    "else:\n",
    "    print(\"Error: Transaccion del Cliente Independiente del 01/01/2023 al 31/01/2023 NO enviada\")\n",
    "\n",
    "r = requests.get(URL+'/mine')\n",
    "if r.status_code == 200:\n",
    "    print(\"Bloque del 01/01/2023 al 31/01/2023 minado\")\n",
    "else:\n",
    "    print(\"Error:Bloque del 01/01/2023 al 31/01/2023 NO minado\")\n",
    "\n",
    "### Block 2\n",
    "\n",
    "# Transaction 1\n",
    "body = {\n",
    "        \"Numero Factura\" : \"3238327648M\",\n",
    "        \"ID Cliente\" : \"6229016L\",\n",
    "        \"Potencia Consumida (kWh)\" : \"53\",\n",
    "        \"Potencia Producida (kWh)\" : \"97\",\n",
    "        \"Periodo de Facturacion\": \"01/02/2023 al 28/02/2023\"\n",
    "        }\n",
    "\n",
    "r = requests.post(URL+'/new_transaction',json = body)\n",
    "if r.status_code == 201:\n",
    "    print(\"\\nTransaccion del Polideportivo del 01/02/2023 al 28/02/2023 enviada\")\n",
    "else:\n",
    "    print(\"Error: Transaccion del Polideportivo del 01/02/2023 al 28/02/2023 NO enviada\")\n",
    "\n",
    "# Transaction 2\n",
    "body = {\n",
    "        \"Numero Factura\" : \"3112542216N\",\n",
    "        \"ID Cliente\" : \"3165615K\",\n",
    "        \"Potencia Consumida (kWh)\" : \"298\",\n",
    "        \"Potencia Producida (kWh)\" : \"420\",\n",
    "        \"Periodo de Facturacion\": \"01/02/2023 al 28/02/2023\"\n",
    "        }\n",
    "\n",
    "r = requests.post(URL+'/new_transaction',json = body)\n",
    "if r.status_code == 201:\n",
    "    print(\"Transaccion del Cliente Independiente del 01/02/2023 al 28/02/2023 enviada\")\n",
    "else:\n",
    "    print(\"Error: Transaccion del Cliente Independiente del 01/02/2023 al 28/02/2023 NO enviada\")\n",
    "\n",
    "r = requests.get(URL+'/mine')\n",
    "if r.status_code == 200:\n",
    "    print(\"Bloque del 01/02/2023 al 28/02/2023 minado\")\n",
    "else:\n",
    "    print(\"Error:Bloque del 01/02/2023 al 28/02/2023 NO minado\")\n",
    "\n",
    "### Block 3\n",
    "\n",
    "# Transaction 1\n",
    "body = {\n",
    "        \"Numero Factura\" : \"8555676086A\",\n",
    "        \"ID Cliente\" : \"6229016L\",\n",
    "        \"Potencia Consumida (kWh)\" : \"90\",\n",
    "        \"Potencia Producida (kWh)\" : \"450\",\n",
    "        \"Periodo de Facturacion\": \"01/03/2023 al 31/03/2023\"\n",
    "        }\n",
    "\n",
    "r = requests.post(URL+'/new_transaction',json = body)\n",
    "if r.status_code == 201:\n",
    "    print(\"\\nTransaccion del Polideportivo del 01/03/2023 al 31/03/2023 enviada\")\n",
    "else:\n",
    "    print(\"Error: Transaccion del Polideportivo del 01/03/2023 al 31/03/2023 NO enviada\")\n",
    "    \n",
    "# Transaction 2\n",
    "body = {\n",
    "        \"Numero Factura\" : \"9632863143W\",\n",
    "        \"ID Cliente\" : \"3165615K\",\n",
    "        \"Potencia Consumida (kWh)\" : \"213\",\n",
    "        \"Potencia Producida (kWh)\" : \"406\",\n",
    "        \"Periodo de Facturacion\": \"01/03/2023 al 31/03/2023\"\n",
    "        }\n",
    "\n",
    "r = requests.post(URL+'/new_transaction',json = body)\n",
    "if r.status_code == 201:\n",
    "    print(\"Transaccion del Cliente Independiente del 01/03/2023 al 31/03/2023 enviada\")\n",
    "else:\n",
    "    print(\"Error: Transaccion del Cliente Independiente del 01/03/2023 al 31/03/2023 NO enviada\")\n",
    "\n",
    "\n",
    "r = requests.get(URL+'/mine')\n",
    "if r.status_code == 200:\n",
    "    print(\"Bloque del 01/03/2023 al 31/03/2023 minado\")\n",
    "else:\n",
    "    print(\"Error:Bloque del 01/03/2023 al 31/03/2023 NO minado\")\n"
   ]
  },
  {
   "cell_type": "markdown",
   "id": "c9592b16-ae68-4afc-a565-215cb4cb3a30",
   "metadata": {},
   "source": [
    "#### 4. Confirm chains are the same in all nodes"
   ]
  },
  {
   "cell_type": "code",
   "execution_count": 4,
   "id": "161fb6b4-5e74-4412-802b-de724d2c3612",
   "metadata": {},
   "outputs": [
    {
     "name": "stdout",
     "output_type": "stream",
     "text": [
      "Las cadenas son iguales: True\n",
      "\n",
      "Cadena del Polideportivo:\n",
      "Genesis Block: \n",
      " {'current_hash': '00059cd5b42416959b120fb71a3c8cbae82595e304ccb1098765c5554df23036', 'index': 0, 'nonce': 3937, 'previous_hash': '0', 'timestamp': 1688459708.9149287, 'transactions': []}\n",
      "\n",
      "Bloque 1 del 01/01/2023 al 31/01/2023: \n",
      " {'current_hash': '0008e29378b53caae15a31820c9678a031245f45c8ea6ad42b39c4bd4b9e6fa0', 'index': 1, 'nonce': 2619, 'previous_hash': '00059cd5b42416959b120fb71a3c8cbae82595e304ccb1098765c5554df23036', 'timestamp': 1688461868.8368278, 'transactions': [{'Excedente': '248', 'ID Cliente': '6229016L', 'Numero Factura': '5107217625C', 'Periodo de Facturacion': '01/01/2023 al 31/01/2023', 'Potencia Consumida (kWh)': '194', 'Potencia Producida (kWh)': '442', 'timestamp': 1688461860.564853}, {'Excedente': '106', 'ID Cliente': '3165615K', 'Numero Factura': '5944718538E', 'Periodo de Facturacion': '01/01/2023 al 31/01/2023', 'Potencia Consumida (kWh)': '89', 'Potencia Producida (kWh)': '195', 'timestamp': 1688461862.6188526}, {'Excedente': '354', 'ID Cliente': '9999999A', 'Numero Factura': '9999999999A', 'Potencia Consumida (kWh)': '0', 'Potencia Producida (kWh)': '0', 'timestamp': 1688461868.8368278}]}\n",
      "\n",
      "Bloque 2 del 01/02/2023 al 28/02/2023: \n",
      " {'current_hash': '000a118c19a97f2576b887c1d04b8fca9457814249b06b4e03fa6c8c3b422d49', 'index': 2, 'nonce': 5532, 'previous_hash': '0008e29378b53caae15a31820c9678a031245f45c8ea6ad42b39c4bd4b9e6fa0', 'timestamp': 1688461887.5641477, 'transactions': [{'Excedente': '44', 'ID Cliente': '6229016L', 'Numero Factura': '3238327648M', 'Periodo de Facturacion': '01/02/2023 al 28/02/2023', 'Potencia Consumida (kWh)': '53', 'Potencia Producida (kWh)': '97', 'timestamp': 1688461879.2998154}, {'Excedente': '122', 'ID Cliente': '3165615K', 'Numero Factura': '3112542216N', 'Periodo de Facturacion': '01/02/2023 al 28/02/2023', 'Potencia Consumida (kWh)': '298', 'Potencia Producida (kWh)': '420', 'timestamp': 1688461881.3723557}, {'Excedente': '166', 'ID Cliente': '9999999A', 'Numero Factura': '9999999999A', 'Potencia Consumida (kWh)': '0', 'Potencia Producida (kWh)': '0', 'timestamp': 1688461887.5641477}]}\n",
      "\n",
      "Bloque 3 del 01/03/2023 al 31/03/2023: \n",
      " {'current_hash': '0003e7605085babbe21adc3fe2731785fdef46d763bef01b1542a0bfa942347b', 'index': 3, 'nonce': 1774, 'previous_hash': '000a118c19a97f2576b887c1d04b8fca9457814249b06b4e03fa6c8c3b422d49', 'timestamp': 1688461906.384462, 'transactions': [{'Excedente': '360', 'ID Cliente': '6229016L', 'Numero Factura': '8555676086A', 'Periodo de Facturacion': '01/03/2023 al 31/03/2023', 'Potencia Consumida (kWh)': '90', 'Potencia Producida (kWh)': '450', 'timestamp': 1688461898.185666}, {'Excedente': '193', 'ID Cliente': '3165615K', 'Numero Factura': '9632863143W', 'Periodo de Facturacion': '01/03/2023 al 31/03/2023', 'Potencia Consumida (kWh)': '213', 'Potencia Producida (kWh)': '406', 'timestamp': 1688461900.2490048}, {'Excedente': '553', 'ID Cliente': '9999999A', 'Numero Factura': '9999999999A', 'Potencia Consumida (kWh)': '0', 'Potencia Producida (kWh)': '0', 'timestamp': 1688461906.384462}]}\n"
     ]
    }
   ],
   "source": [
    "import requests\n",
    "URL1 = 'http://localhost:12121'\n",
    "URL2 = 'http://localhost:13131'\n",
    "URL3 = 'http://localhost:14141'\n",
    "\n",
    "r1 = requests.get(URL1+'/chain')\n",
    "r2 = requests.get(URL2+'/chain')\n",
    "r3 = requests.get(URL3+'/chain')\n",
    "\n",
    "print(\"Las cadenas son iguales:\",r1.json()['chain']==r2.json()['chain']==r3.json()['chain'])\n",
    "\n",
    "for x in range(len(r1.json()['chain'])):\n",
    "    if x == 0:\n",
    "        print(\"\\nCadena del Polideportivo:\")\n",
    "        print(\"Genesis Block: \")\n",
    "        print(\"\", r1.json()['chain'][x])\n",
    "    else:\n",
    "        print(\"\\nBloque \"+str(x)+\" del \"+r1.json()['chain'][x]['transactions'][0]['Periodo de Facturacion']+\": \")\n",
    "        print(\"\",r1.json()['chain'][x])"
   ]
  },
  {
   "cell_type": "markdown",
   "id": "ac4e7485-6618-476f-9150-a19703d02a83",
   "metadata": {},
   "source": [
    "#### 5. Obtain the \"Excedente\" of the chain"
   ]
  },
  {
   "cell_type": "code",
   "execution_count": 5,
   "id": "acd357be-c8cd-40bc-bbaf-026dee24de6b",
   "metadata": {},
   "outputs": [
    {
     "name": "stdout",
     "output_type": "stream",
     "text": [
      "El excedente total de le cadena es de: 1073 kWh\n"
     ]
    }
   ],
   "source": [
    "import requests\n",
    "\n",
    "URL = 'http://localhost:12121'\n",
    "\n",
    "r = requests.get(URL+'/chain').json()\n",
    "\n",
    "excedente = 0\n",
    "for x in range(int(r['length'])):\n",
    "    for y in range(len(r['chain'][x]['transactions'])):\n",
    "        if r['chain'][x]['transactions'][y]['Numero Factura'] == \"9999999999A\":\n",
    "            excedente = excedente + int(r['chain'][x]['transactions'][y]['Excedente'])\n",
    "    \n",
    "print(\"El excedente total de le cadena es de: \"+str(excedente)+\" kWh\")"
   ]
  },
  {
   "cell_type": "markdown",
   "id": "69a7a7b3-b9c7-425e-9f25-d92294b03d47",
   "metadata": {},
   "source": [
    "#### 6. Create the Bill"
   ]
  },
  {
   "cell_type": "code",
   "execution_count": 12,
   "id": "dacbcb0f-896a-4e90-9912-79814499e4c3",
   "metadata": {},
   "outputs": [
    {
     "data": {
      "text/html": [
       "<style type=\"text/css\">\n",
       "</style>\n",
       "<table id=\"T_aa32e\" style='display:inline'>\n",
       "  <caption>Factura del Cliente 3165615K desde el Periodo de Facturacion Inicial (del 01/01/2023 al 31/01/2023)</caption>\n",
       "  <thead>\n",
       "    <tr>\n",
       "      <th class=\"blank level0\" >&nbsp;</th>\n",
       "      <th id=\"T_aa32e_level0_col0\" class=\"col_heading level0 col0\" >Numero Factura</th>\n",
       "      <th id=\"T_aa32e_level0_col1\" class=\"col_heading level0 col1\" >Periodo de Facturacion</th>\n",
       "      <th id=\"T_aa32e_level0_col2\" class=\"col_heading level0 col2\" >Potencia Consumida (kWh)</th>\n",
       "      <th id=\"T_aa32e_level0_col3\" class=\"col_heading level0 col3\" >Potencia Producida (kWh)</th>\n",
       "      <th id=\"T_aa32e_level0_col4\" class=\"col_heading level0 col4\" >Excedente (kWh)</th>\n",
       "    </tr>\n",
       "  </thead>\n",
       "  <tbody>\n",
       "    <tr>\n",
       "      <th id=\"T_aa32e_level0_row0\" class=\"row_heading level0 row0\" >0</th>\n",
       "      <td id=\"T_aa32e_row0_col0\" class=\"data row0 col0\" >5944718538E</td>\n",
       "      <td id=\"T_aa32e_row0_col1\" class=\"data row0 col1\" >01/01/2023 al 31/01/2023</td>\n",
       "      <td id=\"T_aa32e_row0_col2\" class=\"data row0 col2\" >89</td>\n",
       "      <td id=\"T_aa32e_row0_col3\" class=\"data row0 col3\" >195</td>\n",
       "      <td id=\"T_aa32e_row0_col4\" class=\"data row0 col4\" >106</td>\n",
       "    </tr>\n",
       "    <tr>\n",
       "      <th id=\"T_aa32e_level0_row1\" class=\"row_heading level0 row1\" >1</th>\n",
       "      <td id=\"T_aa32e_row1_col0\" class=\"data row1 col0\" >3112542216N</td>\n",
       "      <td id=\"T_aa32e_row1_col1\" class=\"data row1 col1\" >01/02/2023 al 28/02/2023</td>\n",
       "      <td id=\"T_aa32e_row1_col2\" class=\"data row1 col2\" >298</td>\n",
       "      <td id=\"T_aa32e_row1_col3\" class=\"data row1 col3\" >420</td>\n",
       "      <td id=\"T_aa32e_row1_col4\" class=\"data row1 col4\" >122</td>\n",
       "    </tr>\n",
       "    <tr>\n",
       "      <th id=\"T_aa32e_level0_row2\" class=\"row_heading level0 row2\" >2</th>\n",
       "      <td id=\"T_aa32e_row2_col0\" class=\"data row2 col0\" >9632863143W</td>\n",
       "      <td id=\"T_aa32e_row2_col1\" class=\"data row2 col1\" >01/03/2023 al 31/03/2023</td>\n",
       "      <td id=\"T_aa32e_row2_col2\" class=\"data row2 col2\" >213</td>\n",
       "      <td id=\"T_aa32e_row2_col3\" class=\"data row2 col3\" >406</td>\n",
       "      <td id=\"T_aa32e_row2_col4\" class=\"data row2 col4\" >193</td>\n",
       "    </tr>\n",
       "    <tr>\n",
       "      <th id=\"T_aa32e_level0_row3\" class=\"row_heading level0 row3\" >3</th>\n",
       "      <td id=\"T_aa32e_row3_col0\" class=\"data row3 col0\" >TOTAL</td>\n",
       "      <td id=\"T_aa32e_row3_col1\" class=\"data row3 col1\" ></td>\n",
       "      <td id=\"T_aa32e_row3_col2\" class=\"data row3 col2\" >600</td>\n",
       "      <td id=\"T_aa32e_row3_col3\" class=\"data row3 col3\" >1021</td>\n",
       "      <td id=\"T_aa32e_row3_col4\" class=\"data row3 col4\" >421</td>\n",
       "    </tr>\n",
       "  </tbody>\n",
       "</table>\n"
      ],
      "text/plain": [
       "<pandas.io.formats.style.Styler at 0x1bce5be3d90>"
      ]
     },
     "execution_count": 12,
     "metadata": {},
     "output_type": "execute_result"
    }
   ],
   "source": [
    "####### Bill for Client 3165615K\n",
    "client = \"3165615K\"\n",
    "month = \"01/01/2023 al 31/01/2023\"\n",
    "\n",
    "\n",
    "import pandas as pd\n",
    "import requests\n",
    "\n",
    "URL = 'http://localhost:12121'\n",
    "r = requests.get(URL+'/chain').json()\n",
    "\n",
    "\n",
    "# Get all the information of the Client 3165615K\n",
    "num_factura = []\n",
    "pot_consumida = []\n",
    "pot_producida = []\n",
    "periodo = []\n",
    "excedente = []\n",
    "for x in range(int(r['length'])):\n",
    "    for y in range(len(r['chain'][x]['transactions'])):\n",
    "        if r['chain'][x]['transactions'][y]['ID Cliente'] == client:\n",
    "            num_factura.append(r['chain'][x]['transactions'][y]['Numero Factura'])\n",
    "            pot_consumida.append(int(r['chain'][x]['transactions'][y]['Potencia Consumida (kWh)']))\n",
    "            pot_producida.append(int(r['chain'][x]['transactions'][y]['Potencia Producida (kWh)']))\n",
    "            periodo.append(r['chain'][x]['transactions'][y]['Periodo de Facturacion'])\n",
    "            excedente.append(int(r['chain'][x]['transactions'][y]['Excedente']))\n",
    "\n",
    "num_factura.append(\"TOTAL\")\n",
    "pot_consumida.append(str(sum(pot_consumida)))\n",
    "pot_producida.append(str(sum(pot_producida)))\n",
    "periodo.append(\"\")\n",
    "excedente.append(str(sum(excedente)))\n",
    "\n",
    "bill_total = pd.DataFrame(\n",
    "    {'Numero Factura': num_factura,\n",
    "     'Periodo de Facturacion' : periodo,\n",
    "     'Potencia Consumida (kWh)': pot_consumida,\n",
    "     'Potencia Producida (kWh)': pot_producida,\n",
    "     'Excedente (kWh)' : excedente\n",
    "    })\n",
    "\n",
    "bill_total.style.set_table_attributes(\"style='display:inline'\").set_caption('Factura del Cliente %s desde el Periodo de Facturacion Inicial (del %s)' % (client, periodo[0]))"
   ]
  },
  {
   "cell_type": "code",
   "execution_count": 13,
   "id": "6f3ed740-e426-47cf-837b-d36dfee86fa8",
   "metadata": {},
   "outputs": [
    {
     "data": {
      "text/html": [
       "<style type=\"text/css\">\n",
       "</style>\n",
       "<table id=\"T_c6602\" style='display:inline'>\n",
       "  <caption>Factura del Cliente 3165615K del 01/01/2023 al 31/01/2023</caption>\n",
       "  <thead>\n",
       "    <tr>\n",
       "      <th class=\"blank level0\" >&nbsp;</th>\n",
       "      <th id=\"T_c6602_level0_col0\" class=\"col_heading level0 col0\" >Numero Factura</th>\n",
       "      <th id=\"T_c6602_level0_col1\" class=\"col_heading level0 col1\" >Periodo de Facturacion</th>\n",
       "      <th id=\"T_c6602_level0_col2\" class=\"col_heading level0 col2\" >Potencia Consumida (kWh)</th>\n",
       "      <th id=\"T_c6602_level0_col3\" class=\"col_heading level0 col3\" >Potencia Producida (kWh)</th>\n",
       "      <th id=\"T_c6602_level0_col4\" class=\"col_heading level0 col4\" >Excedente (kWh)</th>\n",
       "    </tr>\n",
       "  </thead>\n",
       "  <tbody>\n",
       "    <tr>\n",
       "      <th id=\"T_c6602_level0_row0\" class=\"row_heading level0 row0\" >0</th>\n",
       "      <td id=\"T_c6602_row0_col0\" class=\"data row0 col0\" >5944718538E</td>\n",
       "      <td id=\"T_c6602_row0_col1\" class=\"data row0 col1\" >01/01/2023 al 31/01/2023</td>\n",
       "      <td id=\"T_c6602_row0_col2\" class=\"data row0 col2\" >89</td>\n",
       "      <td id=\"T_c6602_row0_col3\" class=\"data row0 col3\" >195</td>\n",
       "      <td id=\"T_c6602_row0_col4\" class=\"data row0 col4\" >106</td>\n",
       "    </tr>\n",
       "  </tbody>\n",
       "</table>\n"
      ],
      "text/plain": [
       "<pandas.io.formats.style.Styler at 0x1bce5b8b2e0>"
      ]
     },
     "execution_count": 13,
     "metadata": {},
     "output_type": "execute_result"
    }
   ],
   "source": [
    "bill_month = bill_total.loc[bill_total[\"Periodo de Facturacion\"] == month]\n",
    " \n",
    "bill_month.style.set_table_attributes(\"style='display:inline'\").set_caption('Factura del Cliente %s del %s' % (client, month))"
   ]
  }
 ],
 "metadata": {
  "kernelspec": {
   "display_name": "Python 3 (ipykernel)",
   "language": "python",
   "name": "python3"
  },
  "language_info": {
   "codemirror_mode": {
    "name": "ipython",
    "version": 3
   },
   "file_extension": ".py",
   "mimetype": "text/x-python",
   "name": "python",
   "nbconvert_exporter": "python",
   "pygments_lexer": "ipython3",
   "version": "3.10.9"
  }
 },
 "nbformat": 4,
 "nbformat_minor": 5
}
